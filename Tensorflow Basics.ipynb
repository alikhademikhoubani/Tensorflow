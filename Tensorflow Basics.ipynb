{
 "cells": [
  {
   "cell_type": "code",
   "execution_count": 1,
   "id": "11bc3d21",
   "metadata": {},
   "outputs": [
    {
     "name": "stdout",
     "output_type": "stream",
     "text": [
      "WARNING:tensorflow:From C:\\Users\\power\\AppData\\Local\\Temp\\ipykernel_18152\\3645483153.py:2: The name tf.disable_eager_execution is deprecated. Please use tf.compat.v1.disable_eager_execution instead.\n",
      "\n",
      "Tensor(\"add:0\", shape=(), dtype=int32)\n"
     ]
    }
   ],
   "source": [
    "import tensorflow as tf\n",
    "tf.compat.v1.disable_eager_execution()\n",
    "\n",
    "# bilding a computational graph\n",
    "a=tf.constant(2)\n",
    "b=tf.constant(4)\n",
    "c=a+b\n",
    "print(c)"
   ]
  },
  {
   "cell_type": "code",
   "execution_count": 2,
   "id": "3ca3883e",
   "metadata": {},
   "outputs": [
    {
     "data": {
      "text/plain": [
       "6"
      ]
     },
     "execution_count": 2,
     "metadata": {},
     "output_type": "execute_result"
    }
   ],
   "source": [
    "# running a computational graph\n",
    "ssn=tf.compat.v1.Session()\n",
    "ssn.run(c)"
   ]
  },
  {
   "cell_type": "code",
   "execution_count": 3,
   "id": "d925a5eb",
   "metadata": {},
   "outputs": [
    {
     "name": "stdout",
     "output_type": "stream",
     "text": [
      "Tensor(\"mul:0\", shape=(4,), dtype=int32)\n"
     ]
    }
   ],
   "source": [
    "x1=tf.constant([1,2,4,5])\n",
    "x2=tf.constant([2,3,4,5])\n",
    "result=x1*x2\n",
    "print(result)"
   ]
  },
  {
   "cell_type": "code",
   "execution_count": 5,
   "id": "90aa2ba8",
   "metadata": {},
   "outputs": [
    {
     "data": {
      "text/plain": [
       "array([ 2,  6, 16, 25])"
      ]
     },
     "execution_count": 5,
     "metadata": {},
     "output_type": "execute_result"
    }
   ],
   "source": [
    "ssn.run(result)"
   ]
  },
  {
   "cell_type": "code",
   "execution_count": 6,
   "id": "a3a3ae9c",
   "metadata": {},
   "outputs": [
    {
     "data": {
      "text/plain": [
       "<tf.Tensor 'add_1:0' shape=<unknown> dtype=float32>"
      ]
     },
     "execution_count": 6,
     "metadata": {},
     "output_type": "execute_result"
    }
   ],
   "source": [
    "# a=tf.placeholder(tf.float32)\n",
    "a=tf.compat.v1.placeholder(tf.float32)\n",
    "# b=tf.placeholder(tf.float32)\n",
    "b=tf.compat.v1.placeholder(tf.float32)\n",
    "c=a+b\n",
    "c"
   ]
  },
  {
   "cell_type": "code",
   "execution_count": 7,
   "id": "c447163e",
   "metadata": {},
   "outputs": [
    {
     "data": {
      "text/plain": [
       "5.0"
      ]
     },
     "execution_count": 7,
     "metadata": {},
     "output_type": "execute_result"
    }
   ],
   "source": [
    "ssn.run(c,{a:1,b:4})"
   ]
  },
  {
   "cell_type": "code",
   "execution_count": 9,
   "id": "6074db6c",
   "metadata": {},
   "outputs": [
    {
     "data": {
      "text/plain": [
       "array([5., 4., 4.], dtype=float32)"
      ]
     },
     "execution_count": 9,
     "metadata": {},
     "output_type": "execute_result"
    }
   ],
   "source": [
    "ssn.run(c,{a:[1,2,3],b:[4,2,1]})"
   ]
  },
  {
   "cell_type": "code",
   "execution_count": 10,
   "id": "a20bcda2",
   "metadata": {},
   "outputs": [
    {
     "data": {
      "text/plain": [
       "array([5., 4.], dtype=float32)"
      ]
     },
     "execution_count": 10,
     "metadata": {},
     "output_type": "execute_result"
    }
   ],
   "source": [
    "ssn.run(c,{a:[1,2],b:[4,2]})"
   ]
  },
  {
   "cell_type": "code",
   "execution_count": 11,
   "id": "d8b97946",
   "metadata": {},
   "outputs": [
    {
     "data": {
      "text/plain": [
       "3.0"
      ]
     },
     "execution_count": 11,
     "metadata": {},
     "output_type": "execute_result"
    }
   ],
   "source": [
    "ssn.run(c,{a:1,b:2})"
   ]
  },
  {
   "cell_type": "code",
   "execution_count": 13,
   "id": "be1d2d86",
   "metadata": {},
   "outputs": [
    {
     "data": {
      "text/plain": [
       "array([3])"
      ]
     },
     "execution_count": 13,
     "metadata": {},
     "output_type": "execute_result"
    }
   ],
   "source": [
    "# x=tf.Variable([1])\n",
    "x=tf.compat.v1.Variable([1])\n",
    "# q=tf.Variable([.1],tf.float32)\n",
    "# w=tf.Variable([3])\n",
    "w=tf.compat.v1.Variable([3])\n",
    "c=x*w\n",
    "init=tf.compat.v1.global_variables_initializer()\n",
    "ssn.run(init)\n",
    "ssn.run(c)"
   ]
  }
 ],
 "metadata": {
  "kernelspec": {
   "display_name": "Python 3 (ipykernel)",
   "language": "python",
   "name": "python3"
  },
  "language_info": {
   "codemirror_mode": {
    "name": "ipython",
    "version": 3
   },
   "file_extension": ".py",
   "mimetype": "text/x-python",
   "name": "python",
   "nbconvert_exporter": "python",
   "pygments_lexer": "ipython3",
   "version": "3.10.5"
  }
 },
 "nbformat": 4,
 "nbformat_minor": 5
}
